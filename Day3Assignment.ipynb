{
 "cells": [
  {
   "cell_type": "code",
   "execution_count": 10,
   "metadata": {},
   "outputs": [
    {
     "name": "stdout",
     "output_type": "stream",
     "text": [
      "[1, 2, 3, 4, 5, [], 6, 7]\n",
      "List after empty list removal : [1, 2, 3, 4, 5, 6, 7]\n"
     ]
    }
   ],
   "source": [
    "#Write a Python program to remove empty List from List.\n",
    "\n",
    "list=[1,2,3,4,5,[],6,7]\n",
    "print(list)\n",
    "empty = [ele \n",
    "       for ele in list \n",
    "       if ele != []] \n",
    "  \n",
    "# printing result  \n",
    "print (\"List after empty list removal : \" + str(empty)) "
   ]
  },
  {
   "cell_type": "code",
   "execution_count": 30,
   "metadata": {},
   "outputs": [
    {
     "name": "stdout",
     "output_type": "stream",
     "text": [
      "['Hello', 'world', 'and', 'Hi', 'world']\n",
      "Hello world and Hi\n"
     ]
    }
   ],
   "source": [
    "#Write a Python program to remove all duplicates words from a given sentence\n",
    "\n",
    "str1 = \"Hello world and Hi world\"\n",
    "str2 = str1.split()\n",
    "print(str2)\n",
    "list = [] \n",
    "for i in str2: \n",
    "  \n",
    "   if (str1.count(i)>1 and (i not in list)or str1.count(i)==1): \n",
    "        list.append(i) \n",
    "print(' '.join(list)) "
   ]
  },
  {
   "cell_type": "code",
   "execution_count": 41,
   "metadata": {},
   "outputs": [
    {
     "name": "stdout",
     "output_type": "stream",
     "text": [
      "Enter Stringhello how are you\n",
      "Enter charactero\n",
      "o at 5\n",
      "o at 8\n",
      "o at 16\n"
     ]
    }
   ],
   "source": [
    "#Write a Python program to find all occurrences of a character in the given string\n",
    "\n",
    "str1=input(\"Enter String\")\n",
    "ch=input(\"Enter character\")\n",
    "for i in range(len(str1)):\n",
    "    if(str1[i]==ch):\n",
    "        print(ch ,\"at\", i+1)\n"
   ]
  },
  {
   "cell_type": "code",
   "execution_count": null,
   "metadata": {},
   "outputs": [],
   "source": []
  },
  {
   "cell_type": "code",
   "execution_count": null,
   "metadata": {},
   "outputs": [],
   "source": []
  }
 ],
 "metadata": {
  "kernelspec": {
   "display_name": "Python 3",
   "language": "python",
   "name": "python3"
  },
  "language_info": {
   "codemirror_mode": {
    "name": "ipython",
    "version": 3
   },
   "file_extension": ".py",
   "mimetype": "text/x-python",
   "name": "python",
   "nbconvert_exporter": "python",
   "pygments_lexer": "ipython3",
   "version": "3.8.5"
  }
 },
 "nbformat": 4,
 "nbformat_minor": 4
}
