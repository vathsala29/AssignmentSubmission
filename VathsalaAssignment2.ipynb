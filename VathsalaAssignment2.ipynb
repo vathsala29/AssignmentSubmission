{
 "cells": [
  {
   "cell_type": "code",
   "execution_count": 1,
   "metadata": {},
   "outputs": [
    {
     "name": "stdout",
     "output_type": "stream",
     "text": [
      "Prime numbers between 1 and 100\n",
      "2\n",
      "3\n",
      "5\n",
      "7\n",
      "11\n",
      "13\n",
      "17\n",
      "19\n",
      "23\n",
      "29\n",
      "31\n",
      "37\n",
      "41\n",
      "43\n",
      "47\n",
      "53\n",
      "59\n",
      "61\n",
      "67\n",
      "71\n",
      "73\n",
      "79\n",
      "83\n",
      "89\n",
      "97\n"
     ]
    }
   ],
   "source": [
    "#Python Program to print prime numbers\n",
    "a=1\n",
    "b=100\n",
    "\n",
    "print(\"Prime numbers between\",a,\"and\",b)\n",
    "\n",
    "for num in range(a , b + 1):\n",
    "        if num>1:\n",
    "            for i in range (2,num):\n",
    "                if(num % i)==0:\n",
    "                    break\n",
    "            else:\n",
    "                print(num)\n",
    "           \n",
    "                    \n",
    "                    \n",
    "            \n",
    "\n"
   ]
  },
  {
   "cell_type": "code",
   "execution_count": 2,
   "metadata": {},
   "outputs": [
    {
     "name": "stdout",
     "output_type": "stream",
     "text": [
      "Factorial of 10 is 3628800\n"
     ]
    }
   ],
   "source": [
    "#Python program for factorial of number\n",
    "a=10\n",
    "factorial=1\n",
    "if(a<0):\n",
    "    print(\"Factorial doesnot exist\")\n",
    "elif a==0:\n",
    "    print(\"Factorial of 0 is 1\")\n",
    "else:\n",
    "    for i in range(1 , a + 1):\n",
    "        factorial= factorial * i\n",
    "    print(\"Factorial of\",a,\"is\",factorial)"
   ]
  },
  {
   "cell_type": "code",
   "execution_count": 6,
   "metadata": {},
   "outputs": [
    {
     "name": "stdout",
     "output_type": "stream",
     "text": [
      "Enter a number: 8\n",
      "The sum of first n natural numbers is 36\n"
     ]
    }
   ],
   "source": [
    "#Find the sum of n number using while loop\n",
    "\n",
    "n=int(input(\"Enter a number: \"))\n",
    "sum1 = 0\n",
    "while(n > 0):\n",
    "    sum1=sum1+n\n",
    "    n=n-1\n",
    "print(\"The sum of first n natural numbers is\",sum1)"
   ]
  },
  {
   "cell_type": "code",
   "execution_count": null,
   "metadata": {},
   "outputs": [],
   "source": []
  }
 ],
 "metadata": {
  "kernelspec": {
   "display_name": "Python 3",
   "language": "python",
   "name": "python3"
  }
 },
 "nbformat": 4,
 "nbformat_minor": 4
}
